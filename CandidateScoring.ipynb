{
 "cells": [
  {
   "cell_type": "code",
   "execution_count": 1,
   "metadata": {
    "collapsed": true
   },
   "outputs": [],
   "source": [
    "import pandas as pd"
   ]
  },
  {
   "cell_type": "code",
   "execution_count": 7,
   "metadata": {
    "collapsed": true
   },
   "outputs": [],
   "source": [
    "file='Candidates.xlsx'"
   ]
  },
  {
   "cell_type": "code",
   "execution_count": 8,
   "metadata": {
    "collapsed": false
   },
   "outputs": [],
   "source": [
    "df=pd.ExcelFile(file)"
   ]
  },
  {
   "cell_type": "code",
   "execution_count": 9,
   "metadata": {
    "collapsed": false
   },
   "outputs": [],
   "source": [
    "sheets=df.sheet_names"
   ]
  },
  {
   "cell_type": "code",
   "execution_count": 13,
   "metadata": {
    "collapsed": false
   },
   "outputs": [
    {
     "name": "stdout",
     "output_type": "stream",
     "text": [
      "0 8RT813V\n",
      "1 KVB7ZHA\n",
      "2 K7ZHT7M\n",
      "3 0WJ36TQ\n",
      "4 1F3A8JQ\n",
      "5 EDUK24Y\n",
      "6 Q42HVKL\n",
      "7 7352UX5\n",
      "8 5ROVLWE\n",
      "9 FW3IH63\n",
      "10 2BOW4RN\n",
      "11 NLDW8UH\n",
      "12 838FPVJ\n",
      "13 7ZTVN1A\n"
     ]
    }
   ],
   "source": [
    "#show Sheets Information\n",
    "for i, sheet in enumerate(sheets):\n",
    "    print(i, sheet)"
   ]
  },
  {
   "cell_type": "code",
   "execution_count": 22,
   "metadata": {
    "collapsed": false
   },
   "outputs": [
    {
     "data": {
      "text/html": [
       "<div>\n",
       "<table border=\"1\" class=\"dataframe\">\n",
       "  <thead>\n",
       "    <tr style=\"text-align: right;\">\n",
       "      <th></th>\n",
       "      <th>CVEmail</th>\n",
       "      <th>CVSkills</th>\n",
       "      <th>Experience</th>\n",
       "      <th>Score</th>\n",
       "    </tr>\n",
       "  </thead>\n",
       "  <tbody>\n",
       "    <tr>\n",
       "      <th>0</th>\n",
       "      <td>yogiponn1@gmail.com</td>\n",
       "      <td>c++, C#, Java, .Net, asp.net, Javascript, VC++,</td>\n",
       "      <td>15.1</td>\n",
       "      <td>NaN</td>\n",
       "    </tr>\n",
       "    <tr>\n",
       "      <th>1</th>\n",
       "      <td>sreejayanravindran@yahoo.co.uk</td>\n",
       "      <td>asp.net,c#,sql server,vb.net,mvc,tridion</td>\n",
       "      <td>10.0</td>\n",
       "      <td>NaN</td>\n",
       "    </tr>\n",
       "    <tr>\n",
       "      <th>2</th>\n",
       "      <td>yogiponn2@gmail.com</td>\n",
       "      <td>c#, vb,net, C/C++, VC++, C, Java, MVC, .Net, M...</td>\n",
       "      <td>15.1</td>\n",
       "      <td>NaN</td>\n",
       "    </tr>\n",
       "    <tr>\n",
       "      <th>3</th>\n",
       "      <td>suneel.vanka@gmail.com</td>\n",
       "      <td>.Net ,ASP.NET, MVC, jQuery,angular js,  C#,  W...</td>\n",
       "      <td>6.0</td>\n",
       "      <td>NaN</td>\n",
       "    </tr>\n",
       "    <tr>\n",
       "      <th>4</th>\n",
       "      <td>nabeelcp@gmail.com</td>\n",
       "      <td>.Net,  C#,ASP.NET,ASP.NET MVC, jQuery,JavaScri...</td>\n",
       "      <td>8.1</td>\n",
       "      <td>NaN</td>\n",
       "    </tr>\n",
       "    <tr>\n",
       "      <th>5</th>\n",
       "      <td>urvipathak1090@gmail.com</td>\n",
       "      <td>Java,C++,.NET,Java,C++,.NET,Java,C++,.NET,</td>\n",
       "      <td>0.3</td>\n",
       "      <td>NaN</td>\n",
       "    </tr>\n",
       "    <tr>\n",
       "      <th>6</th>\n",
       "      <td>ptirtha@hotmail.com</td>\n",
       "      <td>Maths, Quant, C++, VC++, GMAT, CAT, Programmer...</td>\n",
       "      <td>14.2</td>\n",
       "      <td>NaN</td>\n",
       "    </tr>\n",
       "    <tr>\n",
       "      <th>7</th>\n",
       "      <td>rajarun16@gmail.com</td>\n",
       "      <td>.net,c#.net,Asp.net,Ado.net, sql server 2008</td>\n",
       "      <td>3.5</td>\n",
       "      <td>NaN</td>\n",
       "    </tr>\n",
       "    <tr>\n",
       "      <th>8</th>\n",
       "      <td>zeeshandbg260@gmail.com</td>\n",
       "      <td>Engineer,.net,sql server,c#,c++,dbms,javaScrip...</td>\n",
       "      <td>1.8</td>\n",
       "      <td>NaN</td>\n",
       "    </tr>\n",
       "    <tr>\n",
       "      <th>9</th>\n",
       "      <td>navin.goradara@gmail.com</td>\n",
       "      <td>c,c++,C#,vb,SQL Server 2008,asp.net,</td>\n",
       "      <td>3.1</td>\n",
       "      <td>NaN</td>\n",
       "    </tr>\n",
       "    <tr>\n",
       "      <th>10</th>\n",
       "      <td>coreyschristian@gmail.com</td>\n",
       "      <td>SQL,C#,.NET,LINQ, ASP.NET,Microsoft Office,HTM...</td>\n",
       "      <td>2.0</td>\n",
       "      <td>NaN</td>\n",
       "    </tr>\n",
       "    <tr>\n",
       "      <th>11</th>\n",
       "      <td>munashe@xnine.us</td>\n",
       "      <td>Java, C#, J2EE, PHP, VB, C++, ASP .NET, .NET, ...</td>\n",
       "      <td>5.0</td>\n",
       "      <td>NaN</td>\n",
       "    </tr>\n",
       "    <tr>\n",
       "      <th>12</th>\n",
       "      <td>vipinkm89j@gmail.com</td>\n",
       "      <td>Programmer, C++,C#,Asp.Net,Vb.Net,Sql,.Net</td>\n",
       "      <td>0.6</td>\n",
       "      <td>NaN</td>\n",
       "    </tr>\n",
       "    <tr>\n",
       "      <th>13</th>\n",
       "      <td>vasanth.net@live.com</td>\n",
       "      <td>E-commerce,SEO,ASP.Net,Programming,C#, .Net, S...</td>\n",
       "      <td>4.0</td>\n",
       "      <td>NaN</td>\n",
       "    </tr>\n",
       "    <tr>\n",
       "      <th>14</th>\n",
       "      <td>megha.dave@gmail.com</td>\n",
       "      <td>ASP.NET, C#, VB.NET, SQL Server, Software engi...</td>\n",
       "      <td>4.5</td>\n",
       "      <td>NaN</td>\n",
       "    </tr>\n",
       "  </tbody>\n",
       "</table>\n",
       "</div>"
      ],
      "text/plain": [
       "                           CVEmail  \\\n",
       "0              yogiponn1@gmail.com   \n",
       "1   sreejayanravindran@yahoo.co.uk   \n",
       "2              yogiponn2@gmail.com   \n",
       "3           suneel.vanka@gmail.com   \n",
       "4               nabeelcp@gmail.com   \n",
       "5         urvipathak1090@gmail.com   \n",
       "6              ptirtha@hotmail.com   \n",
       "7              rajarun16@gmail.com   \n",
       "8          zeeshandbg260@gmail.com   \n",
       "9         navin.goradara@gmail.com   \n",
       "10       coreyschristian@gmail.com   \n",
       "11                munashe@xnine.us   \n",
       "12            vipinkm89j@gmail.com   \n",
       "13            vasanth.net@live.com   \n",
       "14            megha.dave@gmail.com   \n",
       "\n",
       "                                             CVSkills  Experience  Score  \n",
       "0     c++, C#, Java, .Net, asp.net, Javascript, VC++,        15.1    NaN  \n",
       "1            asp.net,c#,sql server,vb.net,mvc,tridion        10.0    NaN  \n",
       "2   c#, vb,net, C/C++, VC++, C, Java, MVC, .Net, M...        15.1    NaN  \n",
       "3   .Net ,ASP.NET, MVC, jQuery,angular js,  C#,  W...         6.0    NaN  \n",
       "4   .Net,  C#,ASP.NET,ASP.NET MVC, jQuery,JavaScri...         8.1    NaN  \n",
       "5          Java,C++,.NET,Java,C++,.NET,Java,C++,.NET,         0.3    NaN  \n",
       "6   Maths, Quant, C++, VC++, GMAT, CAT, Programmer...        14.2    NaN  \n",
       "7        .net,c#.net,Asp.net,Ado.net, sql server 2008         3.5    NaN  \n",
       "8   Engineer,.net,sql server,c#,c++,dbms,javaScrip...         1.8    NaN  \n",
       "9                c,c++,C#,vb,SQL Server 2008,asp.net,         3.1    NaN  \n",
       "10  SQL,C#,.NET,LINQ, ASP.NET,Microsoft Office,HTM...         2.0    NaN  \n",
       "11  Java, C#, J2EE, PHP, VB, C++, ASP .NET, .NET, ...         5.0    NaN  \n",
       "12         Programmer, C++,C#,Asp.Net,Vb.Net,Sql,.Net         0.6    NaN  \n",
       "13  E-commerce,SEO,ASP.Net,Programming,C#, .Net, S...         4.0    NaN  \n",
       "14  ASP.NET, C#, VB.NET, SQL Server, Software engi...         4.5    NaN  "
      ]
     },
     "execution_count": 22,
     "metadata": {},
     "output_type": "execute_result"
    }
   ],
   "source": [
    "#Show Data of First DV\n",
    "df.parse(sheets[0])"
   ]
  },
  {
   "cell_type": "code",
   "execution_count": 33,
   "metadata": {
    "collapsed": true
   },
   "outputs": [],
   "source": [
    "applications1=df.parse(sheets[0])"
   ]
  },
  {
   "cell_type": "code",
   "execution_count": 95,
   "metadata": {
    "collapsed": false
   },
   "outputs": [],
   "source": [
    "#Applicatios for First Skills\n",
    "processed_skill=[]\n",
    "for skill in applications1['CVSkills']:\n",
    "    processed_skill.append(list(set([x.strip() for x in skill.rstrip(',').lower().split(',')])))"
   ]
  },
  {
   "cell_type": "code",
   "execution_count": 36,
   "metadata": {
    "collapsed": false
   },
   "outputs": [
    {
     "data": {
      "text/html": [
       "<div>\n",
       "<table border=\"1\" class=\"dataframe\">\n",
       "  <thead>\n",
       "    <tr style=\"text-align: right;\">\n",
       "      <th></th>\n",
       "      <th>CVEmail</th>\n",
       "      <th>CVSkills</th>\n",
       "      <th>Experience</th>\n",
       "    </tr>\n",
       "  </thead>\n",
       "  <tbody>\n",
       "    <tr>\n",
       "      <th>0</th>\n",
       "      <td>yogiponn1@gmail.com</td>\n",
       "      <td>c++, C#, Java, .Net, asp.net, Javascript, VC++,</td>\n",
       "      <td>15.1</td>\n",
       "    </tr>\n",
       "    <tr>\n",
       "      <th>1</th>\n",
       "      <td>sreejayanravindran@yahoo.co.uk</td>\n",
       "      <td>asp.net,c#,sql server,vb.net,mvc,tridion</td>\n",
       "      <td>10</td>\n",
       "    </tr>\n",
       "    <tr>\n",
       "      <th>2</th>\n",
       "      <td>yogiponn2@gmail.com</td>\n",
       "      <td>c#, vb,net, C/C++, VC++, C, Java, MVC, .Net, M...</td>\n",
       "      <td>15.1</td>\n",
       "    </tr>\n",
       "    <tr>\n",
       "      <th>3</th>\n",
       "      <td>suneel.vanka@gmail.com</td>\n",
       "      <td>.Net ,ASP.NET, MVC, jQuery,angular js,  C#,  W...</td>\n",
       "      <td>6</td>\n",
       "    </tr>\n",
       "    <tr>\n",
       "      <th>4</th>\n",
       "      <td>nabeelcp@gmail.com</td>\n",
       "      <td>.Net,  C#,ASP.NET,ASP.NET MVC, jQuery,JavaScri...</td>\n",
       "      <td>8.1</td>\n",
       "    </tr>\n",
       "    <tr>\n",
       "      <th>5</th>\n",
       "      <td>urvipathak1090@gmail.com</td>\n",
       "      <td>Java,C++,.NET,Java,C++,.NET,Java,C++,.NET,</td>\n",
       "      <td>0.3</td>\n",
       "    </tr>\n",
       "    <tr>\n",
       "      <th>6</th>\n",
       "      <td>ptirtha@hotmail.com</td>\n",
       "      <td>Maths, Quant, C++, VC++, GMAT, CAT, Programmer...</td>\n",
       "      <td>14.2</td>\n",
       "    </tr>\n",
       "    <tr>\n",
       "      <th>7</th>\n",
       "      <td>rajarun16@gmail.com</td>\n",
       "      <td>.net,c#.net,Asp.net,Ado.net, sql server 2008</td>\n",
       "      <td>3.5</td>\n",
       "    </tr>\n",
       "    <tr>\n",
       "      <th>8</th>\n",
       "      <td>zeeshandbg260@gmail.com</td>\n",
       "      <td>Engineer,.net,sql server,c#,c++,dbms,javaScrip...</td>\n",
       "      <td>1.8</td>\n",
       "    </tr>\n",
       "    <tr>\n",
       "      <th>9</th>\n",
       "      <td>navin.goradara@gmail.com</td>\n",
       "      <td>c,c++,C#,vb,SQL Server 2008,asp.net,</td>\n",
       "      <td>3.1</td>\n",
       "    </tr>\n",
       "    <tr>\n",
       "      <th>10</th>\n",
       "      <td>coreyschristian@gmail.com</td>\n",
       "      <td>SQL,C#,.NET,LINQ, ASP.NET,Microsoft Office,HTM...</td>\n",
       "      <td>2</td>\n",
       "    </tr>\n",
       "    <tr>\n",
       "      <th>11</th>\n",
       "      <td>munashe@xnine.us</td>\n",
       "      <td>Java, C#, J2EE, PHP, VB, C++, ASP .NET, .NET, ...</td>\n",
       "      <td>5</td>\n",
       "    </tr>\n",
       "    <tr>\n",
       "      <th>12</th>\n",
       "      <td>vipinkm89j@gmail.com</td>\n",
       "      <td>Programmer, C++,C#,Asp.Net,Vb.Net,Sql,.Net</td>\n",
       "      <td>0.6</td>\n",
       "    </tr>\n",
       "    <tr>\n",
       "      <th>13</th>\n",
       "      <td>vasanth.net@live.com</td>\n",
       "      <td>E-commerce,SEO,ASP.Net,Programming,C#, .Net, S...</td>\n",
       "      <td>4</td>\n",
       "    </tr>\n",
       "    <tr>\n",
       "      <th>14</th>\n",
       "      <td>megha.dave@gmail.com</td>\n",
       "      <td>ASP.NET, C#, VB.NET, SQL Server, Software engi...</td>\n",
       "      <td>4.5</td>\n",
       "    </tr>\n",
       "  </tbody>\n",
       "</table>\n",
       "</div>"
      ],
      "text/plain": [
       "                           CVEmail  \\\n",
       "0              yogiponn1@gmail.com   \n",
       "1   sreejayanravindran@yahoo.co.uk   \n",
       "2              yogiponn2@gmail.com   \n",
       "3           suneel.vanka@gmail.com   \n",
       "4               nabeelcp@gmail.com   \n",
       "5         urvipathak1090@gmail.com   \n",
       "6              ptirtha@hotmail.com   \n",
       "7              rajarun16@gmail.com   \n",
       "8          zeeshandbg260@gmail.com   \n",
       "9         navin.goradara@gmail.com   \n",
       "10       coreyschristian@gmail.com   \n",
       "11                munashe@xnine.us   \n",
       "12            vipinkm89j@gmail.com   \n",
       "13            vasanth.net@live.com   \n",
       "14            megha.dave@gmail.com   \n",
       "\n",
       "                                             CVSkills Experience  \n",
       "0     c++, C#, Java, .Net, asp.net, Javascript, VC++,       15.1  \n",
       "1            asp.net,c#,sql server,vb.net,mvc,tridion         10  \n",
       "2   c#, vb,net, C/C++, VC++, C, Java, MVC, .Net, M...       15.1  \n",
       "3   .Net ,ASP.NET, MVC, jQuery,angular js,  C#,  W...          6  \n",
       "4   .Net,  C#,ASP.NET,ASP.NET MVC, jQuery,JavaScri...        8.1  \n",
       "5          Java,C++,.NET,Java,C++,.NET,Java,C++,.NET,        0.3  \n",
       "6   Maths, Quant, C++, VC++, GMAT, CAT, Programmer...       14.2  \n",
       "7        .net,c#.net,Asp.net,Ado.net, sql server 2008        3.5  \n",
       "8   Engineer,.net,sql server,c#,c++,dbms,javaScrip...        1.8  \n",
       "9                c,c++,C#,vb,SQL Server 2008,asp.net,        3.1  \n",
       "10  SQL,C#,.NET,LINQ, ASP.NET,Microsoft Office,HTM...          2  \n",
       "11  Java, C#, J2EE, PHP, VB, C++, ASP .NET, .NET, ...          5  \n",
       "12         Programmer, C++,C#,Asp.Net,Vb.Net,Sql,.Net        0.6  \n",
       "13  E-commerce,SEO,ASP.Net,Programming,C#, .Net, S...          4  \n",
       "14  ASP.NET, C#, VB.NET, SQL Server, Software engi...        4.5  "
      ]
     },
     "execution_count": 36,
     "metadata": {},
     "output_type": "execute_result"
    }
   ],
   "source": [
    "applications_Reduced1"
   ]
  },
  {
   "cell_type": "code",
   "execution_count": 52,
   "metadata": {
    "collapsed": true
   },
   "outputs": [],
   "source": [
    "mapping='Jobs.xlsx'\n",
    "mappingDF=pd.read_excel(mapping)"
   ]
  },
  {
   "cell_type": "code",
   "execution_count": 54,
   "metadata": {
    "collapsed": false
   },
   "outputs": [
    {
     "data": {
      "text/html": [
       "<div>\n",
       "<table border=\"1\" class=\"dataframe\">\n",
       "  <thead>\n",
       "    <tr style=\"text-align: right;\">\n",
       "      <th></th>\n",
       "      <th>JobID</th>\n",
       "      <th>SKILLS</th>\n",
       "    </tr>\n",
       "  </thead>\n",
       "  <tbody>\n",
       "    <tr>\n",
       "      <th>0</th>\n",
       "      <td>8RT813V</td>\n",
       "      <td>c#,.net, asp.net,sql server,c++</td>\n",
       "    </tr>\n",
       "    <tr>\n",
       "      <th>1</th>\n",
       "      <td>KVB7ZHA</td>\n",
       "      <td>Photoshop, Html, Css, Dreamweaver, Jvascript,</td>\n",
       "    </tr>\n",
       "    <tr>\n",
       "      <th>2</th>\n",
       "      <td>K7ZHT7M</td>\n",
       "      <td>IT Sales, Sales Engineer, Sales &amp; Pre Sales E...</td>\n",
       "    </tr>\n",
       "    <tr>\n",
       "      <th>3</th>\n",
       "      <td>0WJ36TQ</td>\n",
       "      <td>PHP, MySql, CodeIgniter, Wordpress, Drupal, C...</td>\n",
       "    </tr>\n",
       "    <tr>\n",
       "      <th>4</th>\n",
       "      <td>1F3A8JQ</td>\n",
       "      <td>ASP.net, C#, XML, Ajax, SQL Server, Oracle, S...</td>\n",
       "    </tr>\n",
       "  </tbody>\n",
       "</table>\n",
       "</div>"
      ],
      "text/plain": [
       "     JobID                                             SKILLS\n",
       "0  8RT813V                    c#,.net, asp.net,sql server,c++\n",
       "1  KVB7ZHA      Photoshop, Html, Css, Dreamweaver, Jvascript,\n",
       "2  K7ZHT7M   IT Sales, Sales Engineer, Sales & Pre Sales E...\n",
       "3  0WJ36TQ   PHP, MySql, CodeIgniter, Wordpress, Drupal, C...\n",
       "4  1F3A8JQ   ASP.net, C#, XML, Ajax, SQL Server, Oracle, S..."
      ]
     },
     "execution_count": 54,
     "metadata": {},
     "output_type": "execute_result"
    }
   ],
   "source": [
    "mappingDF.head()"
   ]
  },
  {
   "cell_type": "code",
   "execution_count": 96,
   "metadata": {
    "collapsed": false
   },
   "outputs": [],
   "source": [
    "#Target Skills For 14 Jobs\n",
    "target_skills=[]\n",
    "for i, skill in enumerate(mappingDF['SKILLS']):\n",
    "    target_skills.append(list(set([x.strip() for x in skill.rstrip(',').strip().lower().split(',')])))"
   ]
  },
  {
   "cell_type": "code",
   "execution_count": 103,
   "metadata": {
    "collapsed": false
   },
   "outputs": [
    {
     "data": {
      "text/plain": [
       "['c#', 'c++', 'asp.net', '.net', 'sql server']"
      ]
     },
     "execution_count": 103,
     "metadata": {},
     "output_type": "execute_result"
    }
   ],
   "source": [
    "#Skill for First Job\n",
    "target_skills[0]"
   ]
  },
  {
   "cell_type": "code",
   "execution_count": 118,
   "metadata": {
    "collapsed": false
   },
   "outputs": [],
   "source": [
    "#Processed Skill for First Job[]\n",
    "matched_skills_total=[]\n",
    "for i,cv in enumerate(processed_skill):\n",
    "    matched_skills=[]\n",
    "    for skill in cv:\n",
    "        if skill in target_skills[0]:\n",
    "            matched_skills.append(skill)\n",
    "    matched_skills_total.append(matched_skills)"
   ]
  },
  {
   "cell_type": "code",
   "execution_count": 119,
   "metadata": {
    "collapsed": false
   },
   "outputs": [
    {
     "data": {
      "text/plain": [
       "[['c#', 'asp.net', '.net', 'c++'],\n",
       " ['c#', 'asp.net', 'sql server'],\n",
       " ['c#', '.net'],\n",
       " ['c#', 'asp.net', '.net'],\n",
       " ['c#', 'asp.net', '.net'],\n",
       " ['.net', 'c++'],\n",
       " ['c#', '.net', 'c++'],\n",
       " ['asp.net', '.net'],\n",
       " ['c#', 'sql server', '.net', 'c++'],\n",
       " ['c#', 'asp.net', 'c++'],\n",
       " ['c#', 'asp.net', '.net'],\n",
       " ['c#', '.net', 'c++'],\n",
       " ['c#', 'asp.net', '.net', 'c++'],\n",
       " ['c#', 'asp.net', '.net', 'sql server'],\n",
       " ['c#', 'asp.net', 'sql server']]"
      ]
     },
     "execution_count": 119,
     "metadata": {},
     "output_type": "execute_result"
    }
   ],
   "source": [
    "matched_skills_total"
   ]
  },
  {
   "cell_type": "code",
   "execution_count": 122,
   "metadata": {
    "collapsed": false
   },
   "outputs": [],
   "source": [
    "candidates=[]\n",
    "for i, matched in enumerate(matched_skills_total):\n",
    "    candidates.append(len(matched))"
   ]
  },
  {
   "cell_type": "code",
   "execution_count": 123,
   "metadata": {
    "collapsed": false
   },
   "outputs": [
    {
     "data": {
      "text/plain": [
       "[4, 3, 2, 3, 3, 2, 3, 2, 4, 3, 3, 3, 4, 4, 3]"
      ]
     },
     "execution_count": 123,
     "metadata": {},
     "output_type": "execute_result"
    }
   ],
   "source": [
    "candidates"
   ]
  },
  {
   "cell_type": "code",
   "execution_count": null,
   "metadata": {
    "collapsed": true
   },
   "outputs": [],
   "source": []
  },
  {
   "cell_type": "code",
   "execution_count": 110,
   "metadata": {
    "collapsed": false
   },
   "outputs": [
    {
     "name": "stdout",
     "output_type": "stream",
     "text": [
      "['javascript', 'vc++', 'c#', 'asp.net', '.net', 'java', 'c++']\n",
      "['c#', 'c++', 'asp.net', '.net', 'sql server']\n"
     ]
    },
    {
     "data": {
      "text/plain": [
       "(None, None)"
      ]
     },
     "execution_count": 110,
     "metadata": {},
     "output_type": "execute_result"
    }
   ],
   "source": [
    "print(processed_skill[0]), print(target_skills[0])"
   ]
  },
  {
   "cell_type": "code",
   "execution_count": 140,
   "metadata": {
    "collapsed": true
   },
   "outputs": [],
   "source": [
    "listEx=[1, 4, 7, 9, 10]\n",
    "listFx=[2, 4, 6, 8]"
   ]
  },
  {
   "cell_type": "code",
   "execution_count": 143,
   "metadata": {
    "collapsed": false
   },
   "outputs": [
    {
     "data": {
      "text/plain": [
       "[3, 8, 13, 17]"
      ]
     },
     "execution_count": 143,
     "metadata": {},
     "output_type": "execute_result"
    }
   ],
   "source": [
    "[a+b for a, b in zip(listEx, listFx)]"
   ]
  },
  {
   "cell_type": "code",
   "execution_count": null,
   "metadata": {
    "collapsed": true
   },
   "outputs": [],
   "source": []
  },
  {
   "cell_type": "code",
   "execution_count": 139,
   "metadata": {
    "collapsed": false
   },
   "outputs": [
    {
     "data": {
      "text/plain": [
       "[1, 2.0, 3.5, 9, 10]"
      ]
     },
     "execution_count": 139,
     "metadata": {},
     "output_type": "execute_result"
    }
   ],
   "source": [
    "[0.5*x if x>=4 and x<=7 else x for x in listEx]"
   ]
  },
  {
   "cell_type": "code",
   "execution_count": null,
   "metadata": {
    "collapsed": true
   },
   "outputs": [],
   "source": [
    "[0.5*x if x>=4 and x<=7 else x for x in listEx]"
   ]
  },
  {
   "cell_type": "code",
   "execution_count": 133,
   "metadata": {
    "collapsed": false
   },
   "outputs": [
    {
     "data": {
      "text/plain": [
       "[0.14285714285714285, 0.5714285714285714, 1.0]"
      ]
     },
     "execution_count": 133,
     "metadata": {},
     "output_type": "execute_result"
    }
   ],
   "source": [
    "[x/max(listEx) for x in listEx]"
   ]
  },
  {
   "cell_type": "code",
   "execution_count": null,
   "metadata": {
    "collapsed": true
   },
   "outputs": [],
   "source": []
  },
  {
   "cell_type": "code",
   "execution_count": 127,
   "metadata": {
    "collapsed": false
   },
   "outputs": [
    {
     "data": {
      "text/plain": [
       "[0.3333333333333333, 1.3333333333333333, 2.3333333333333335]"
      ]
     },
     "execution_count": 127,
     "metadata": {},
     "output_type": "execute_result"
    }
   ],
   "source": [
    "[x/len(listEx) for x in listEx]"
   ]
  },
  {
   "cell_type": "code",
   "execution_count": 130,
   "metadata": {
    "collapsed": false
   },
   "outputs": [
    {
     "data": {
      "text/plain": [
       "pandas.core.series.Series"
      ]
     },
     "execution_count": 130,
     "metadata": {},
     "output_type": "execute_result"
    }
   ],
   "source": [
    "type(applications1['Experience'])"
   ]
  },
  {
   "cell_type": "code",
   "execution_count": 131,
   "metadata": {
    "collapsed": false
   },
   "outputs": [
    {
     "name": "stdout",
     "output_type": "stream",
     "text": [
      "0\n",
      "1\n",
      "2\n",
      "3\n",
      "4\n"
     ]
    }
   ],
   "source": [
    "for i in range(5):\n",
    "    print(i)"
   ]
  },
  {
   "cell_type": "code",
   "execution_count": null,
   "metadata": {
    "collapsed": true
   },
   "outputs": [],
   "source": []
  },
  {
   "cell_type": "code",
   "execution_count": null,
   "metadata": {
    "collapsed": true
   },
   "outputs": [],
   "source": []
  }
 ],
 "metadata": {
  "kernelspec": {
   "display_name": "Python 3",
   "language": "python",
   "name": "python3"
  },
  "language_info": {
   "codemirror_mode": {
    "name": "ipython",
    "version": 3
   },
   "file_extension": ".py",
   "mimetype": "text/x-python",
   "name": "python",
   "nbconvert_exporter": "python",
   "pygments_lexer": "ipython3",
   "version": "3.5.3"
  }
 },
 "nbformat": 4,
 "nbformat_minor": 2
}
